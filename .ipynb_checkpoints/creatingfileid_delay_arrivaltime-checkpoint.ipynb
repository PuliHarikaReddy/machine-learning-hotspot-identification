{
  "cells": [
    {
      "metadata": {
        "trusted": true
      },
      "cell_type": "code",
      "source": "import pandas as pd\n#import d6tstack\n\n#from openpyxl import Workbook, load_workbook\nfrom pandas import ExcelWriter\nfrom pandas import ExcelFile\nimport numpy as np",
      "execution_count": 1,
      "outputs": []
    },
    {
      "metadata": {
        "trusted": true
      },
      "cell_type": "code",
      "source": "linkcode=pd.read_excel('linkdata.xlsx')\ndelaydata=pd.read_excel('delaydatafilter.xlsx')\nlink=linkcode.values.tolist()\ndelay=delaydata.values.tolist()\n",
      "execution_count": 2,
      "outputs": []
    },
    {
      "metadata": {
        "trusted": true
      },
      "cell_type": "code",
      "source": "delaydata.columns",
      "execution_count": 3,
      "outputs": [
        {
          "output_type": "execute_result",
          "execution_count": 3,
          "data": {
            "text/plain": "Index([u'trainno', u'from', u'to', u'delay'], dtype='object')"
          },
          "metadata": {}
        }
      ]
    },
    {
      "metadata": {
        "trusted": true
      },
      "cell_type": "code",
      "source": "",
      "execution_count": null,
      "outputs": []
    },
    {
      "metadata": {
        "trusted": true
      },
      "cell_type": "code",
      "source": "towrite1  = pd.DataFrame(columns=['id','trainno', 'linkid','delay'])\n#towrite=towrite.append({'trainno':trainno, 'from':y,'to':z,'delay':w}, ignore_index=True)",
      "execution_count": 4,
      "outputs": []
    },
    {
      "metadata": {
        "trusted": true
      },
      "cell_type": "code",
      "source": "k=0\nfor i in range(0,len(delay)):\n    fromst=delay[i][1]\n    tost=delay[i][2]\n    delayd=delay[i][3]\n    for j in range(0,len(link)):\n        if(fromst==link[j][1] and tost==link[j][2]):\n            \n            towrite1=towrite1.append({'id':k,'trainno':delay[i][0], 'linkid':int(link[j][0]),'delay':delayd}, ignore_index=True)\n            if(link[j][0]==240):\n                print(j)\n            k=k+1\n            \n        ",
      "execution_count": 5,
      "outputs": []
    },
    {
      "metadata": {
        "trusted": true
      },
      "cell_type": "code",
      "source": "towrite1",
      "execution_count": 6,
      "outputs": [
        {
          "output_type": "execute_result",
          "execution_count": 6,
          "data": {
            "text/plain": "        id trainno linkid delay\n0        1   12625    154    25\n1        2   12625      9    24\n2        3   12625     30    25\n3        4   12625     23    28\n4        5   12625    109    33\n5        6   12625    214    34\n6        7   12625    208    31\n7        8   12625    187    31\n8        9   12625    176    36\n9       10   12625     99    19\n10      11   12625    201    27\n11      12   12625    103    31\n12      13   12625     85    30\n13      14   12625    183    31\n14      15   12625    122    34\n15      16   12625     71    34\n16      17   12625    107    30\n17      18   12625    159    30\n18      19   12625     77    48\n19      20   12625    222    34\n20      21   12625    154    21\n21      22   12625      9    15\n22      23   12625     30    15\n23      24   12625     23    19\n24      25   12625    109    24\n25      26   12625    214    23\n26      27   12625    208    18\n27      28   12625    187    16\n28      29   12625    176    20\n29      30   12625     99     6\n...    ...     ...    ...   ...\n5167  5168   12522    152    10\n5168  5169   12522    102    18\n5169  5170   12522     20    24\n5170  5171   12522    118    25\n5171  5172   12522    130    31\n5172  5173   12522     82    36\n5173  5174   12522    121    13\n5174  5175   12522    183    17\n5175  5176   12522    122     2\n5176  5177   12522     71    12\n5177  5178   12522    107    10\n5178  5179   12522    159    13\n5179  5180   12522     77    22\n5180  5181   12522    222    37\n5181  5182   12522      4    35\n5182  5183   12522    152    13\n5183  5184   12522    102    21\n5184  5185   12522     20    27\n5185  5186   12522    118    29\n5186  5187   12522    130    34\n5187  5188   12522     82    39\n5188  5189   12522    121    13\n5189  5190   12522    183    21\n5190  5191   12522    122     2\n5191  5192   12522     71    14\n5192  5193   12522    107    10\n5193  5194   12522    159    17\n5194  5195   12522     77    26\n5195  5196   12522    222    47\n5196  5197   12522      4    40\n\n[5197 rows x 4 columns]",
            "text/html": "<div>\n<style scoped>\n    .dataframe tbody tr th:only-of-type {\n        vertical-align: middle;\n    }\n\n    .dataframe tbody tr th {\n        vertical-align: top;\n    }\n\n    .dataframe thead th {\n        text-align: right;\n    }\n</style>\n<table border=\"1\" class=\"dataframe\">\n  <thead>\n    <tr style=\"text-align: right;\">\n      <th></th>\n      <th>id</th>\n      <th>trainno</th>\n      <th>linkid</th>\n      <th>delay</th>\n    </tr>\n  </thead>\n  <tbody>\n    <tr>\n      <th>0</th>\n      <td>1</td>\n      <td>12625</td>\n      <td>154</td>\n      <td>25</td>\n    </tr>\n    <tr>\n      <th>1</th>\n      <td>2</td>\n      <td>12625</td>\n      <td>9</td>\n      <td>24</td>\n    </tr>\n    <tr>\n      <th>2</th>\n      <td>3</td>\n      <td>12625</td>\n      <td>30</td>\n      <td>25</td>\n    </tr>\n    <tr>\n      <th>3</th>\n      <td>4</td>\n      <td>12625</td>\n      <td>23</td>\n      <td>28</td>\n    </tr>\n    <tr>\n      <th>4</th>\n      <td>5</td>\n      <td>12625</td>\n      <td>109</td>\n      <td>33</td>\n    </tr>\n    <tr>\n      <th>5</th>\n      <td>6</td>\n      <td>12625</td>\n      <td>214</td>\n      <td>34</td>\n    </tr>\n    <tr>\n      <th>6</th>\n      <td>7</td>\n      <td>12625</td>\n      <td>208</td>\n      <td>31</td>\n    </tr>\n    <tr>\n      <th>7</th>\n      <td>8</td>\n      <td>12625</td>\n      <td>187</td>\n      <td>31</td>\n    </tr>\n    <tr>\n      <th>8</th>\n      <td>9</td>\n      <td>12625</td>\n      <td>176</td>\n      <td>36</td>\n    </tr>\n    <tr>\n      <th>9</th>\n      <td>10</td>\n      <td>12625</td>\n      <td>99</td>\n      <td>19</td>\n    </tr>\n    <tr>\n      <th>10</th>\n      <td>11</td>\n      <td>12625</td>\n      <td>201</td>\n      <td>27</td>\n    </tr>\n    <tr>\n      <th>11</th>\n      <td>12</td>\n      <td>12625</td>\n      <td>103</td>\n      <td>31</td>\n    </tr>\n    <tr>\n      <th>12</th>\n      <td>13</td>\n      <td>12625</td>\n      <td>85</td>\n      <td>30</td>\n    </tr>\n    <tr>\n      <th>13</th>\n      <td>14</td>\n      <td>12625</td>\n      <td>183</td>\n      <td>31</td>\n    </tr>\n    <tr>\n      <th>14</th>\n      <td>15</td>\n      <td>12625</td>\n      <td>122</td>\n      <td>34</td>\n    </tr>\n    <tr>\n      <th>15</th>\n      <td>16</td>\n      <td>12625</td>\n      <td>71</td>\n      <td>34</td>\n    </tr>\n    <tr>\n      <th>16</th>\n      <td>17</td>\n      <td>12625</td>\n      <td>107</td>\n      <td>30</td>\n    </tr>\n    <tr>\n      <th>17</th>\n      <td>18</td>\n      <td>12625</td>\n      <td>159</td>\n      <td>30</td>\n    </tr>\n    <tr>\n      <th>18</th>\n      <td>19</td>\n      <td>12625</td>\n      <td>77</td>\n      <td>48</td>\n    </tr>\n    <tr>\n      <th>19</th>\n      <td>20</td>\n      <td>12625</td>\n      <td>222</td>\n      <td>34</td>\n    </tr>\n    <tr>\n      <th>20</th>\n      <td>21</td>\n      <td>12625</td>\n      <td>154</td>\n      <td>21</td>\n    </tr>\n    <tr>\n      <th>21</th>\n      <td>22</td>\n      <td>12625</td>\n      <td>9</td>\n      <td>15</td>\n    </tr>\n    <tr>\n      <th>22</th>\n      <td>23</td>\n      <td>12625</td>\n      <td>30</td>\n      <td>15</td>\n    </tr>\n    <tr>\n      <th>23</th>\n      <td>24</td>\n      <td>12625</td>\n      <td>23</td>\n      <td>19</td>\n    </tr>\n    <tr>\n      <th>24</th>\n      <td>25</td>\n      <td>12625</td>\n      <td>109</td>\n      <td>24</td>\n    </tr>\n    <tr>\n      <th>25</th>\n      <td>26</td>\n      <td>12625</td>\n      <td>214</td>\n      <td>23</td>\n    </tr>\n    <tr>\n      <th>26</th>\n      <td>27</td>\n      <td>12625</td>\n      <td>208</td>\n      <td>18</td>\n    </tr>\n    <tr>\n      <th>27</th>\n      <td>28</td>\n      <td>12625</td>\n      <td>187</td>\n      <td>16</td>\n    </tr>\n    <tr>\n      <th>28</th>\n      <td>29</td>\n      <td>12625</td>\n      <td>176</td>\n      <td>20</td>\n    </tr>\n    <tr>\n      <th>29</th>\n      <td>30</td>\n      <td>12625</td>\n      <td>99</td>\n      <td>6</td>\n    </tr>\n    <tr>\n      <th>...</th>\n      <td>...</td>\n      <td>...</td>\n      <td>...</td>\n      <td>...</td>\n    </tr>\n    <tr>\n      <th>5167</th>\n      <td>5168</td>\n      <td>12522</td>\n      <td>152</td>\n      <td>10</td>\n    </tr>\n    <tr>\n      <th>5168</th>\n      <td>5169</td>\n      <td>12522</td>\n      <td>102</td>\n      <td>18</td>\n    </tr>\n    <tr>\n      <th>5169</th>\n      <td>5170</td>\n      <td>12522</td>\n      <td>20</td>\n      <td>24</td>\n    </tr>\n    <tr>\n      <th>5170</th>\n      <td>5171</td>\n      <td>12522</td>\n      <td>118</td>\n      <td>25</td>\n    </tr>\n    <tr>\n      <th>5171</th>\n      <td>5172</td>\n      <td>12522</td>\n      <td>130</td>\n      <td>31</td>\n    </tr>\n    <tr>\n      <th>5172</th>\n      <td>5173</td>\n      <td>12522</td>\n      <td>82</td>\n      <td>36</td>\n    </tr>\n    <tr>\n      <th>5173</th>\n      <td>5174</td>\n      <td>12522</td>\n      <td>121</td>\n      <td>13</td>\n    </tr>\n    <tr>\n      <th>5174</th>\n      <td>5175</td>\n      <td>12522</td>\n      <td>183</td>\n      <td>17</td>\n    </tr>\n    <tr>\n      <th>5175</th>\n      <td>5176</td>\n      <td>12522</td>\n      <td>122</td>\n      <td>2</td>\n    </tr>\n    <tr>\n      <th>5176</th>\n      <td>5177</td>\n      <td>12522</td>\n      <td>71</td>\n      <td>12</td>\n    </tr>\n    <tr>\n      <th>5177</th>\n      <td>5178</td>\n      <td>12522</td>\n      <td>107</td>\n      <td>10</td>\n    </tr>\n    <tr>\n      <th>5178</th>\n      <td>5179</td>\n      <td>12522</td>\n      <td>159</td>\n      <td>13</td>\n    </tr>\n    <tr>\n      <th>5179</th>\n      <td>5180</td>\n      <td>12522</td>\n      <td>77</td>\n      <td>22</td>\n    </tr>\n    <tr>\n      <th>5180</th>\n      <td>5181</td>\n      <td>12522</td>\n      <td>222</td>\n      <td>37</td>\n    </tr>\n    <tr>\n      <th>5181</th>\n      <td>5182</td>\n      <td>12522</td>\n      <td>4</td>\n      <td>35</td>\n    </tr>\n    <tr>\n      <th>5182</th>\n      <td>5183</td>\n      <td>12522</td>\n      <td>152</td>\n      <td>13</td>\n    </tr>\n    <tr>\n      <th>5183</th>\n      <td>5184</td>\n      <td>12522</td>\n      <td>102</td>\n      <td>21</td>\n    </tr>\n    <tr>\n      <th>5184</th>\n      <td>5185</td>\n      <td>12522</td>\n      <td>20</td>\n      <td>27</td>\n    </tr>\n    <tr>\n      <th>5185</th>\n      <td>5186</td>\n      <td>12522</td>\n      <td>118</td>\n      <td>29</td>\n    </tr>\n    <tr>\n      <th>5186</th>\n      <td>5187</td>\n      <td>12522</td>\n      <td>130</td>\n      <td>34</td>\n    </tr>\n    <tr>\n      <th>5187</th>\n      <td>5188</td>\n      <td>12522</td>\n      <td>82</td>\n      <td>39</td>\n    </tr>\n    <tr>\n      <th>5188</th>\n      <td>5189</td>\n      <td>12522</td>\n      <td>121</td>\n      <td>13</td>\n    </tr>\n    <tr>\n      <th>5189</th>\n      <td>5190</td>\n      <td>12522</td>\n      <td>183</td>\n      <td>21</td>\n    </tr>\n    <tr>\n      <th>5190</th>\n      <td>5191</td>\n      <td>12522</td>\n      <td>122</td>\n      <td>2</td>\n    </tr>\n    <tr>\n      <th>5191</th>\n      <td>5192</td>\n      <td>12522</td>\n      <td>71</td>\n      <td>14</td>\n    </tr>\n    <tr>\n      <th>5192</th>\n      <td>5193</td>\n      <td>12522</td>\n      <td>107</td>\n      <td>10</td>\n    </tr>\n    <tr>\n      <th>5193</th>\n      <td>5194</td>\n      <td>12522</td>\n      <td>159</td>\n      <td>17</td>\n    </tr>\n    <tr>\n      <th>5194</th>\n      <td>5195</td>\n      <td>12522</td>\n      <td>77</td>\n      <td>26</td>\n    </tr>\n    <tr>\n      <th>5195</th>\n      <td>5196</td>\n      <td>12522</td>\n      <td>222</td>\n      <td>47</td>\n    </tr>\n    <tr>\n      <th>5196</th>\n      <td>5197</td>\n      <td>12522</td>\n      <td>4</td>\n      <td>40</td>\n    </tr>\n  </tbody>\n</table>\n<p>5197 rows × 4 columns</p>\n</div>"
          },
          "metadata": {}
        }
      ]
    },
    {
      "metadata": {
        "trusted": true
      },
      "cell_type": "code",
      "source": "writer = ExcelWriter('linkdatalist.xlsx')\ntowrite1.to_excel(writer,'Sheet1',index=False)\nwriter.save()",
      "execution_count": 7,
      "outputs": []
    },
    {
      "metadata": {
        "trusted": true
      },
      "cell_type": "code",
      "source": "dfr=pd.read_excel('linkdatalist.xlsx')\ndfrlist=towrite1.values.tolist()\ndfo=pd.read_excel('Official_Schedules_filtered.xlsx')\n",
      "execution_count": 7,
      "outputs": []
    },
    {
      "metadata": {
        "trusted": true
      },
      "cell_type": "code",
      "source": "dfolist=dfo.values.tolist()\ndfli=pd.read_excel('linkdata.xlsx')\ndflist=dfli.values.tolist()",
      "execution_count": 8,
      "outputs": []
    },
    {
      "metadata": {
        "trusted": true
      },
      "cell_type": "code",
      "source": "towrite4 = pd.DataFrame(columns=['id','delay', 'time'])\n",
      "execution_count": 9,
      "outputs": []
    },
    {
      "metadata": {
        "trusted": true
      },
      "cell_type": "code",
      "source": "print(dflist[24][1])",
      "execution_count": 10,
      "outputs": [
        {
          "output_type": "stream",
          "text": "MVLK\n",
          "name": "stdout"
        }
      ]
    },
    {
      "metadata": {
        "trusted": true
      },
      "cell_type": "code",
      "source": "'''fromsta=\" \"\ntosta=\" \"\nl=0\nfor i in range(0,10):\n    \n    li=dfrlist[i][2]\n    print(li)\n    \n    li=int(li)\n    trainno=dfrlist[i][1]\n    #print(\"link id:\")\n    #print(dflist[li][0])\n    for k in range(0,len(dflist)):\n        if(li==dflist[k]):\n            fromsta=dflist[li][1]\n            tosta=dflist[li][2]\n            break\n    print(fromsta)\n    print(tosta)\n    for j in range(0,len(dfolist)):\n        if(trainno==dfolist[j][0]):\n            #print(trainno)\n            if(fromsta==dfolist[j][1] and tosta==dfolist[j][2]):\n                towrite4=towrite4.append({'id':dfrlist[i][0],'delay':dfrlist[i][3],'time':dfolist[j][3]}, ignore_index=True)\n                print(dfolist[j][1])\n                l=l+1\n                break\n                \n\n  '''  ",
      "execution_count": 11,
      "outputs": [
        {
          "output_type": "execute_result",
          "execution_count": 11,
          "data": {
            "text/plain": "'fromsta=\" \"\\ntosta=\" \"\\nl=0\\nfor i in range(0,10):\\n    \\n    li=dfrlist[i][2]\\n    print(li)\\n    \\n    li=int(li)\\n    trainno=dfrlist[i][1]\\n    #print(\"link id:\")\\n    #print(dflist[li][0])\\n    for k in range(0,len(dflist)):\\n        if(li==dflist[k]):\\n            fromsta=dflist[li][1]\\n            tosta=dflist[li][2]\\n            break\\n    print(fromsta)\\n    print(tosta)\\n    for j in range(0,len(dfolist)):\\n        if(trainno==dfolist[j][0]):\\n            #print(trainno)\\n            if(fromsta==dfolist[j][1] and tosta==dfolist[j][2]):\\n                towrite4=towrite4.append({\\'id\\':dfrlist[i][0],\\'delay\\':dfrlist[i][3],\\'time\\':dfolist[j][3]}, ignore_index=True)\\n                print(dfolist[j][1])\\n                l=l+1\\n                break\\n                \\n\\n  '"
          },
          "metadata": {}
        }
      ]
    },
    {
      "metadata": {
        "trusted": true
      },
      "cell_type": "code",
      "source": "fromsta=\" \"\ntosta=\" \"\ntrainno=\"\"\nidinsert=0\nflag=0\nl=0\nfor i in range(0,len(dfr)):\n    flag=0\n    idinsert=dfrlist[i][0]\n    trainno=dfrlist[i][1]\n    linkid=dfrlist[i][2]\n    delay=dfrlist[i][3]\n    #print(linkid)\n    #print(dflist[linkid-1][0])\n    for k in range(0,len(dflist)):\n        if(linkid==dflist[k][0]):\n            fromsta=dflist[k][1]\n            tosta=dflist[k][2]\n            break\n    for j in range(0,len(dfolist)):\n        if(trainno==dfolist[j][0]):\n            #print(trainno)\n            if(fromsta==dfolist[j][1] and tosta==dfolist[j][2]):\n                towrite4=towrite4.append({'id':idinsert,'delay':delay,'time':dfolist[j][3]}, ignore_index=True)\n                #print(dfolist[j][1])\n                l=l+1\n                flag=1\n                break\n    if(flag!=1):\n        print(idinsert)\n                 \n\n    \n    \n    ",
      "execution_count": 20,
      "outputs": [
        {
          "output_type": "stream",
          "text": "1199\n1232\n1265\n1298\n1331\n1364\n1397\n1430\n1463\n1496\n3988\n3989\n4008\n4009\n4028\n4029\n4048\n4049\n4068\n4069\n4088\n4089\n4108\n4109\n4128\n4129\n4148\n4149\n4168\n4169\n",
          "name": "stdout"
        }
      ]
    },
    {
      "metadata": {
        "trusted": true
      },
      "cell_type": "code",
      "source": "print(dfrlist[1199][2])",
      "execution_count": 22,
      "outputs": [
        {
          "output_type": "stream",
          "text": "30\n",
          "name": "stdout"
        }
      ]
    },
    {
      "metadata": {
        "trusted": true
      },
      "cell_type": "code",
      "source": "towrite4",
      "execution_count": 14,
      "outputs": [
        {
          "output_type": "execute_result",
          "execution_count": 14,
          "data": {
            "text/plain": "        id delay      time\n0        1    25  11:49:00\n1        2    24  12:22:00\n2        3    25  12:58:00\n3        4    28  13:09:00\n4        5    33  13:18:00\n5        6    34  13:29:00\n6        7    31  13:44:00\n7        8    31  14:07:00\n8        9    36  14:39:00\n9       10    19  15:40:00\n10      11    27  16:03:00\n11      12    31  17:07:00\n12      13    30  18:04:00\n13      14    31  18:42:00\n14      15    34  19:52:00\n15      16    34  20:48:00\n16      17    30  21:50:00\n17      18    30  22:52:00\n18      19    48  00:43:00\n19      20    34  02:00:00\n20      21    21  11:49:00\n21      22    15  12:22:00\n22      23    15  12:58:00\n23      24    19  13:09:00\n24      25    24  13:18:00\n25      26    23  13:29:00\n26      27    18  13:44:00\n27      28    16  14:07:00\n28      29    20  14:39:00\n29      30     6  15:40:00\n...    ...   ...       ...\n5127  5158    10  10:33:00\n5128  5159    18  10:44:00\n5129  5160    24  10:59:00\n5130  5161    25  11:09:00\n5131  5162    31  11:32:00\n5132  5163    36  11:54:00\n5133  5164    13  13:04:00\n5134  5165    17  13:30:00\n5135  5166     2  15:32:00\n5136  5167    12  16:18:00\n5137  5168    10  17:10:00\n5138  5169    13  18:12:00\n5139  5170    22  19:48:00\n5140  5171    37  20:50:00\n5141  5172    35  23:05:00\n5142  5173    13  10:33:00\n5143  5174    21  10:44:00\n5144  5175    27  10:59:00\n5145  5176    29  11:09:00\n5146  5177    34  11:32:00\n5147  5178    39  11:54:00\n5148  5179    13  13:04:00\n5149  5180    21  13:30:00\n5150  5181     2  15:32:00\n5151  5182    14  16:18:00\n5152  5183    10  17:10:00\n5153  5184    17  18:12:00\n5154  5185    26  19:48:00\n5155  5186    47  20:50:00\n5156  5187    40  23:05:00\n\n[5157 rows x 3 columns]",
            "text/html": "<div>\n<style scoped>\n    .dataframe tbody tr th:only-of-type {\n        vertical-align: middle;\n    }\n\n    .dataframe tbody tr th {\n        vertical-align: top;\n    }\n\n    .dataframe thead th {\n        text-align: right;\n    }\n</style>\n<table border=\"1\" class=\"dataframe\">\n  <thead>\n    <tr style=\"text-align: right;\">\n      <th></th>\n      <th>id</th>\n      <th>delay</th>\n      <th>time</th>\n    </tr>\n  </thead>\n  <tbody>\n    <tr>\n      <th>0</th>\n      <td>1</td>\n      <td>25</td>\n      <td>11:49:00</td>\n    </tr>\n    <tr>\n      <th>1</th>\n      <td>2</td>\n      <td>24</td>\n      <td>12:22:00</td>\n    </tr>\n    <tr>\n      <th>2</th>\n      <td>3</td>\n      <td>25</td>\n      <td>12:58:00</td>\n    </tr>\n    <tr>\n      <th>3</th>\n      <td>4</td>\n      <td>28</td>\n      <td>13:09:00</td>\n    </tr>\n    <tr>\n      <th>4</th>\n      <td>5</td>\n      <td>33</td>\n      <td>13:18:00</td>\n    </tr>\n    <tr>\n      <th>5</th>\n      <td>6</td>\n      <td>34</td>\n      <td>13:29:00</td>\n    </tr>\n    <tr>\n      <th>6</th>\n      <td>7</td>\n      <td>31</td>\n      <td>13:44:00</td>\n    </tr>\n    <tr>\n      <th>7</th>\n      <td>8</td>\n      <td>31</td>\n      <td>14:07:00</td>\n    </tr>\n    <tr>\n      <th>8</th>\n      <td>9</td>\n      <td>36</td>\n      <td>14:39:00</td>\n    </tr>\n    <tr>\n      <th>9</th>\n      <td>10</td>\n      <td>19</td>\n      <td>15:40:00</td>\n    </tr>\n    <tr>\n      <th>10</th>\n      <td>11</td>\n      <td>27</td>\n      <td>16:03:00</td>\n    </tr>\n    <tr>\n      <th>11</th>\n      <td>12</td>\n      <td>31</td>\n      <td>17:07:00</td>\n    </tr>\n    <tr>\n      <th>12</th>\n      <td>13</td>\n      <td>30</td>\n      <td>18:04:00</td>\n    </tr>\n    <tr>\n      <th>13</th>\n      <td>14</td>\n      <td>31</td>\n      <td>18:42:00</td>\n    </tr>\n    <tr>\n      <th>14</th>\n      <td>15</td>\n      <td>34</td>\n      <td>19:52:00</td>\n    </tr>\n    <tr>\n      <th>15</th>\n      <td>16</td>\n      <td>34</td>\n      <td>20:48:00</td>\n    </tr>\n    <tr>\n      <th>16</th>\n      <td>17</td>\n      <td>30</td>\n      <td>21:50:00</td>\n    </tr>\n    <tr>\n      <th>17</th>\n      <td>18</td>\n      <td>30</td>\n      <td>22:52:00</td>\n    </tr>\n    <tr>\n      <th>18</th>\n      <td>19</td>\n      <td>48</td>\n      <td>00:43:00</td>\n    </tr>\n    <tr>\n      <th>19</th>\n      <td>20</td>\n      <td>34</td>\n      <td>02:00:00</td>\n    </tr>\n    <tr>\n      <th>20</th>\n      <td>21</td>\n      <td>21</td>\n      <td>11:49:00</td>\n    </tr>\n    <tr>\n      <th>21</th>\n      <td>22</td>\n      <td>15</td>\n      <td>12:22:00</td>\n    </tr>\n    <tr>\n      <th>22</th>\n      <td>23</td>\n      <td>15</td>\n      <td>12:58:00</td>\n    </tr>\n    <tr>\n      <th>23</th>\n      <td>24</td>\n      <td>19</td>\n      <td>13:09:00</td>\n    </tr>\n    <tr>\n      <th>24</th>\n      <td>25</td>\n      <td>24</td>\n      <td>13:18:00</td>\n    </tr>\n    <tr>\n      <th>25</th>\n      <td>26</td>\n      <td>23</td>\n      <td>13:29:00</td>\n    </tr>\n    <tr>\n      <th>26</th>\n      <td>27</td>\n      <td>18</td>\n      <td>13:44:00</td>\n    </tr>\n    <tr>\n      <th>27</th>\n      <td>28</td>\n      <td>16</td>\n      <td>14:07:00</td>\n    </tr>\n    <tr>\n      <th>28</th>\n      <td>29</td>\n      <td>20</td>\n      <td>14:39:00</td>\n    </tr>\n    <tr>\n      <th>29</th>\n      <td>30</td>\n      <td>6</td>\n      <td>15:40:00</td>\n    </tr>\n    <tr>\n      <th>...</th>\n      <td>...</td>\n      <td>...</td>\n      <td>...</td>\n    </tr>\n    <tr>\n      <th>5127</th>\n      <td>5158</td>\n      <td>10</td>\n      <td>10:33:00</td>\n    </tr>\n    <tr>\n      <th>5128</th>\n      <td>5159</td>\n      <td>18</td>\n      <td>10:44:00</td>\n    </tr>\n    <tr>\n      <th>5129</th>\n      <td>5160</td>\n      <td>24</td>\n      <td>10:59:00</td>\n    </tr>\n    <tr>\n      <th>5130</th>\n      <td>5161</td>\n      <td>25</td>\n      <td>11:09:00</td>\n    </tr>\n    <tr>\n      <th>5131</th>\n      <td>5162</td>\n      <td>31</td>\n      <td>11:32:00</td>\n    </tr>\n    <tr>\n      <th>5132</th>\n      <td>5163</td>\n      <td>36</td>\n      <td>11:54:00</td>\n    </tr>\n    <tr>\n      <th>5133</th>\n      <td>5164</td>\n      <td>13</td>\n      <td>13:04:00</td>\n    </tr>\n    <tr>\n      <th>5134</th>\n      <td>5165</td>\n      <td>17</td>\n      <td>13:30:00</td>\n    </tr>\n    <tr>\n      <th>5135</th>\n      <td>5166</td>\n      <td>2</td>\n      <td>15:32:00</td>\n    </tr>\n    <tr>\n      <th>5136</th>\n      <td>5167</td>\n      <td>12</td>\n      <td>16:18:00</td>\n    </tr>\n    <tr>\n      <th>5137</th>\n      <td>5168</td>\n      <td>10</td>\n      <td>17:10:00</td>\n    </tr>\n    <tr>\n      <th>5138</th>\n      <td>5169</td>\n      <td>13</td>\n      <td>18:12:00</td>\n    </tr>\n    <tr>\n      <th>5139</th>\n      <td>5170</td>\n      <td>22</td>\n      <td>19:48:00</td>\n    </tr>\n    <tr>\n      <th>5140</th>\n      <td>5171</td>\n      <td>37</td>\n      <td>20:50:00</td>\n    </tr>\n    <tr>\n      <th>5141</th>\n      <td>5172</td>\n      <td>35</td>\n      <td>23:05:00</td>\n    </tr>\n    <tr>\n      <th>5142</th>\n      <td>5173</td>\n      <td>13</td>\n      <td>10:33:00</td>\n    </tr>\n    <tr>\n      <th>5143</th>\n      <td>5174</td>\n      <td>21</td>\n      <td>10:44:00</td>\n    </tr>\n    <tr>\n      <th>5144</th>\n      <td>5175</td>\n      <td>27</td>\n      <td>10:59:00</td>\n    </tr>\n    <tr>\n      <th>5145</th>\n      <td>5176</td>\n      <td>29</td>\n      <td>11:09:00</td>\n    </tr>\n    <tr>\n      <th>5146</th>\n      <td>5177</td>\n      <td>34</td>\n      <td>11:32:00</td>\n    </tr>\n    <tr>\n      <th>5147</th>\n      <td>5178</td>\n      <td>39</td>\n      <td>11:54:00</td>\n    </tr>\n    <tr>\n      <th>5148</th>\n      <td>5179</td>\n      <td>13</td>\n      <td>13:04:00</td>\n    </tr>\n    <tr>\n      <th>5149</th>\n      <td>5180</td>\n      <td>21</td>\n      <td>13:30:00</td>\n    </tr>\n    <tr>\n      <th>5150</th>\n      <td>5181</td>\n      <td>2</td>\n      <td>15:32:00</td>\n    </tr>\n    <tr>\n      <th>5151</th>\n      <td>5182</td>\n      <td>14</td>\n      <td>16:18:00</td>\n    </tr>\n    <tr>\n      <th>5152</th>\n      <td>5183</td>\n      <td>10</td>\n      <td>17:10:00</td>\n    </tr>\n    <tr>\n      <th>5153</th>\n      <td>5184</td>\n      <td>17</td>\n      <td>18:12:00</td>\n    </tr>\n    <tr>\n      <th>5154</th>\n      <td>5185</td>\n      <td>26</td>\n      <td>19:48:00</td>\n    </tr>\n    <tr>\n      <th>5155</th>\n      <td>5186</td>\n      <td>47</td>\n      <td>20:50:00</td>\n    </tr>\n    <tr>\n      <th>5156</th>\n      <td>5187</td>\n      <td>40</td>\n      <td>23:05:00</td>\n    </tr>\n  </tbody>\n</table>\n<p>5157 rows × 3 columns</p>\n</div>"
          },
          "metadata": {}
        }
      ]
    },
    {
      "metadata": {
        "trusted": true
      },
      "cell_type": "code",
      "source": "writer = ExcelWriter('delaydatafinal.xlsx')\ntowrite4.to_excel(writer,'Sheet1',index=False)\nwriter.save()",
      "execution_count": 15,
      "outputs": []
    },
    {
      "metadata": {
        "trusted": true
      },
      "cell_type": "code",
      "source": "df2=pd.read_excel('delaydatafinal.xlsx')\ndf3=df2.values.tolist()",
      "execution_count": 16,
      "outputs": []
    },
    {
      "metadata": {
        "trusted": true
      },
      "cell_type": "code",
      "source": "df4=list(df2['id'])",
      "execution_count": 17,
      "outputs": []
    },
    {
      "metadata": {
        "trusted": true
      },
      "cell_type": "code",
      "source": "len(df4)",
      "execution_count": 18,
      "outputs": [
        {
          "output_type": "execute_result",
          "execution_count": 18,
          "data": {
            "text/plain": "5157"
          },
          "metadata": {}
        }
      ]
    },
    {
      "metadata": {
        "trusted": true
      },
      "cell_type": "code",
      "source": "",
      "execution_count": null,
      "outputs": []
    }
  ],
  "metadata": {
    "kernelspec": {
      "name": "python2",
      "display_name": "Python 2",
      "language": "python"
    },
    "language_info": {
      "mimetype": "text/x-python",
      "nbconvert_exporter": "python",
      "name": "python",
      "pygments_lexer": "ipython2",
      "version": "2.7.15",
      "file_extension": ".py",
      "codemirror_mode": {
        "version": 2,
        "name": "ipython"
      }
    }
  },
  "nbformat": 4,
  "nbformat_minor": 2
}