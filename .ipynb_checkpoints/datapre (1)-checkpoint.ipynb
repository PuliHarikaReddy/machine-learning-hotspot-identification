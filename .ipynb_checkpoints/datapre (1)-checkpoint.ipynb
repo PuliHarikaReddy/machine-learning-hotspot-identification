{
  "cells": [
    {
      "metadata": {
        "trusted": true
      },
      "cell_type": "code",
      "source": "import pandas as pd\n#import d6tstack\n\n#from openpyxl import Workbook, load_workbook\nfrom pandas import ExcelWriter\nfrom pandas import ExcelFile\nimport numpy as np\nxls = pd.ExcelFile('dataset.xlsx')\ntowrite1  = pd.DataFrame(columns=['trainno', 'from', 'to','delay'])\n# Now you can list all sheets in the file\nlisttrainnames=xls.sheet_names\n# ['house', 'house_extra', ...]\n\n# to read just one sheet to dataframe:\nfor i in range(0,2):\n    trainh=listtrainnames[i]\n    \n    df = pd.read_excel('dataset.xlsx', sheet_name=trainh)\n    tp=trainh.find('-')\n    trainu=trainh[0:tp]\n    x=[]\n    x=list(df.columns.values.tolist())\n    s=[]\n    for x1 in x:\n        i=x1.find('\\n')\n        x1=x1[0:i]\n        s.append(x1)\n    \n    df.rename(columns=dict(zip(df.columns[0:], s)),inplace=True)\n\n\n# to read all sheets to a map\n    df['trainno'] = trainu\n    df=df.set_index('trainno')\n    df=df.fillna('0 Min')\n    towrite  = pd.DataFrame(columns=['trainno', 'from', 'to','delay'])\n# creating a blank series \n    Type_new = pd.Series([]) \n    trainno=trainu\n#df.dtypes\n    x=list(df.columns.values.tolist())\n    rowlen=df.shape[0]\n    l=[]\n\n\n\n#df.columns.get_loc(key, method=None, tolerance=None)\n    for j in range(0,rowlen):\n        l=df.iloc[j]\n    \n        for i in range(0,len(x)-1):\n            y=x[i]\n            z=x[i+1]\n            w=l[i+1]\n            towrite=towrite.append({'trainno':trainno, 'from':y,'to':z,'delay':w}, ignore_index=True)\n    \n    \n    lisdelay=list(towrite['delay'])\n##lisdelay\n    for i in range(0,len(lisdelay)):\n        if(lisdelay[i]=='-'):\n            lisdelay[i]='0 Min'\n        \n    x=''\n    store=0\n    store1=1\n    for i in range(0,len(lisdelay)):\n        x1=lisdelay[i].find('M')\n    \n        x=lisdelay[i][0:x1-1]\n    \n        if(len(x)>2):\n            x4=lisdelay[i].find('M')\n            x5=lisdelay[i][x4-3:x4-1]\n            x5=int(x5)\n            store=store+x5\n            x2=lisdelay[i].find('H')\n            x3=lisdelay[i][0:x2-1]\n        #lisdelay[i]=lisdelay[i][0:x2-1]\n            x3=int(x3)\n            store1=x3*60\n        \n            lisdelay[i]=store+store1\n        else:\n            x4=lisdelay[i].find('M')\n            x5=lisdelay[i][0:x4-1]\n            x5=int(x)\n        #store=store+x5\n            lisdelay[i]=x5\n        store=1\n\n        \n##lisdelay\n    \n#print(\"done\")\n\n    towrite['delay']=pd.DataFrame(lisdelay)\n\n    towrite1=towrite1.append(towrite)\ntowrite1",
      "execution_count": 12,
      "outputs": [
        {
          "output_type": "error",
          "ename": "ValueError",
          "evalue": "invalid literal for int() with base 10: 'el'",
          "traceback": [
            "\u001b[0;31m---------------------------------------------------------------------------\u001b[0m",
            "\u001b[0;31mValueError\u001b[0m                                Traceback (most recent call last)",
            "\u001b[0;32m<ipython-input-12-401edb1a029e>\u001b[0m in \u001b[0;36m<module>\u001b[0;34m\u001b[0m\n\u001b[1;32m     73\u001b[0m             \u001b[0mx4\u001b[0m\u001b[0;34m=\u001b[0m\u001b[0mlisdelay\u001b[0m\u001b[0;34m[\u001b[0m\u001b[0mi\u001b[0m\u001b[0;34m]\u001b[0m\u001b[0;34m.\u001b[0m\u001b[0mfind\u001b[0m\u001b[0;34m(\u001b[0m\u001b[0;34m'M'\u001b[0m\u001b[0;34m)\u001b[0m\u001b[0;34m\u001b[0m\u001b[0m\n\u001b[1;32m     74\u001b[0m             \u001b[0mx5\u001b[0m\u001b[0;34m=\u001b[0m\u001b[0mlisdelay\u001b[0m\u001b[0;34m[\u001b[0m\u001b[0mi\u001b[0m\u001b[0;34m]\u001b[0m\u001b[0;34m[\u001b[0m\u001b[0mx4\u001b[0m\u001b[0;34m-\u001b[0m\u001b[0;36m3\u001b[0m\u001b[0;34m:\u001b[0m\u001b[0mx4\u001b[0m\u001b[0;34m-\u001b[0m\u001b[0;36m1\u001b[0m\u001b[0;34m]\u001b[0m\u001b[0;34m\u001b[0m\u001b[0m\n\u001b[0;32m---> 75\u001b[0;31m             \u001b[0mx5\u001b[0m\u001b[0;34m=\u001b[0m\u001b[0mint\u001b[0m\u001b[0;34m(\u001b[0m\u001b[0mx5\u001b[0m\u001b[0;34m)\u001b[0m\u001b[0;34m\u001b[0m\u001b[0m\n\u001b[0m\u001b[1;32m     76\u001b[0m             \u001b[0mstore\u001b[0m\u001b[0;34m=\u001b[0m\u001b[0mstore\u001b[0m\u001b[0;34m+\u001b[0m\u001b[0mx5\u001b[0m\u001b[0;34m\u001b[0m\u001b[0m\n\u001b[1;32m     77\u001b[0m             \u001b[0mx2\u001b[0m\u001b[0;34m=\u001b[0m\u001b[0mlisdelay\u001b[0m\u001b[0;34m[\u001b[0m\u001b[0mi\u001b[0m\u001b[0;34m]\u001b[0m\u001b[0;34m.\u001b[0m\u001b[0mfind\u001b[0m\u001b[0;34m(\u001b[0m\u001b[0;34m'H'\u001b[0m\u001b[0;34m)\u001b[0m\u001b[0;34m\u001b[0m\u001b[0m\n",
            "\u001b[0;31mValueError\u001b[0m: invalid literal for int() with base 10: 'el'"
          ]
        }
      ]
    },
    {
      "metadata": {
        "trusted": true
      },
      "cell_type": "code",
      "source": "writer = ExcelWriter('delaydata.xlsx')\ntowrite1.to_excel(writer,'Sheet1',index=False)\nwriter.save()\ndf1=pd.read_excel('delaydata.xlsx')\ndf1\n\n\n#########\n#xls1 = pd.ExcelFile('official_schedules.xlsx')\n\n# Now you can list all sheets in the file\n",
      "execution_count": 9,
      "outputs": [
        {
          "output_type": "execute_result",
          "execution_count": 9,
          "data": {
            "text/html": "<div>\n<style scoped>\n    .dataframe tbody tr th:only-of-type {\n        vertical-align: middle;\n    }\n\n    .dataframe tbody tr th {\n        vertical-align: top;\n    }\n\n    .dataframe thead th {\n        text-align: right;\n    }\n</style>\n<table border=\"1\" class=\"dataframe\">\n  <thead>\n    <tr style=\"text-align: right;\">\n      <th></th>\n      <th>trainno</th>\n      <th>from</th>\n      <th>to</th>\n      <th>delay</th>\n    </tr>\n  </thead>\n  <tbody>\n  </tbody>\n</table>\n</div>",
            "text/plain": "Empty DataFrame\nColumns: [trainno, from, to, delay]\nIndex: []"
          },
          "metadata": {}
        }
      ]
    },
    {
      "metadata": {
        "trusted": true
      },
      "cell_type": "code",
      "source": "df = pd.read_excel('dataset.xlsx', sheet_name=trainh)\ndf",
      "execution_count": 13,
      "outputs": [
        {
          "output_type": "execute_result",
          "execution_count": 13,
          "data": {
            "text/html": "<div>\n<style scoped>\n    .dataframe tbody tr th:only-of-type {\n        vertical-align: middle;\n    }\n\n    .dataframe tbody tr th {\n        vertical-align: top;\n    }\n\n    .dataframe thead th {\n        text-align: right;\n    }\n</style>\n<table border=\"1\" class=\"dataframe\">\n  <thead>\n    <tr style=\"text-align: right;\">\n      <th></th>\n      <th>Mgr Chennai Ctl\n0 KM's</th>\n      <th>Arakkonam\n69 KM's</th>\n      <th>Katpadi\n130 KM's</th>\n      <th>Vaniyambadi\n198 KM's</th>\n      <th>Jolarpettai\n214 KM's</th>\n      <th>Salem\n334 KM's</th>\n      <th>Erode\n396 KM's</th>\n      <th>Tiruppur\n446 KM's</th>\n      <th>Coimbatore\n497 KM's</th>\n      <th>Palakkad\n551 KM's</th>\n      <th>...</th>\n      <th>Ernakulam Town\n700 KM's</th>\n      <th>Kottayam\n762 KM's</th>\n      <th>Changanaseri\n780 KM's</th>\n      <th>Tiruvalla\n788 KM's</th>\n      <th>Chengannur\n797 KM's</th>\n      <th>Mavelikara\n809 KM's</th>\n      <th>Kayankulam\n817 KM's</th>\n      <th>Kollam\n858 KM's</th>\n      <th>Varkalasivagiri\n881 KM's</th>\n      <th>Trivandrum Cntl\n922 KM's</th>\n    </tr>\n  </thead>\n  <tbody>\n    <tr>\n      <th>0</th>\n      <td>-</td>\n      <td>08 Mins</td>\n      <td>17 Mins</td>\n      <td>26 Mins</td>\n      <td>22 Mins</td>\n      <td>27 Mins</td>\n      <td>20 Mins</td>\n      <td>34 Mins</td>\n      <td>24 Mins</td>\n      <td>20 Mins</td>\n      <td>...</td>\n      <td>10 Mins</td>\n      <td>13 Mins</td>\n      <td>25 Mins</td>\n      <td>27 Mins</td>\n      <td>30 Mins</td>\n      <td>28 Mins</td>\n      <td>27 Mins</td>\n      <td>17 Mins</td>\n      <td>13 Mins</td>\n      <td>No Delay</td>\n    </tr>\n    <tr>\n      <th>1</th>\n      <td>-</td>\n      <td>10 Mins</td>\n      <td>11 Mins</td>\n      <td>18 Mins</td>\n      <td>14 Mins</td>\n      <td>15 Mins</td>\n      <td>13 Mins</td>\n      <td>20 Mins</td>\n      <td>23 Mins</td>\n      <td>19 Mins</td>\n      <td>...</td>\n      <td>07 Mins</td>\n      <td>08 Mins</td>\n      <td>17 Mins</td>\n      <td>17 Mins</td>\n      <td>20 Mins</td>\n      <td>18 Mins</td>\n      <td>16 Mins</td>\n      <td>05 Mins</td>\n      <td>03 Mins</td>\n      <td>No Delay</td>\n    </tr>\n    <tr>\n      <th>2</th>\n      <td>-</td>\n      <td>11 Mins</td>\n      <td>11 Mins</td>\n      <td>18 Mins</td>\n      <td>14 Mins</td>\n      <td>14 Mins</td>\n      <td>17 Mins</td>\n      <td>26 Mins</td>\n      <td>16 Mins</td>\n      <td>17 Mins</td>\n      <td>...</td>\n      <td>-</td>\n      <td>01 Min</td>\n      <td>14 Mins</td>\n      <td>14 Mins</td>\n      <td>17 Mins</td>\n      <td>15 Mins</td>\n      <td>14 Mins</td>\n      <td>04 Mins</td>\n      <td>05 Mins</td>\n      <td>No Delay</td>\n    </tr>\n    <tr>\n      <th>3</th>\n      <td>-</td>\n      <td>11 Mins</td>\n      <td>10 Mins</td>\n      <td>23 Mins</td>\n      <td>18 Mins</td>\n      <td>25 Mins</td>\n      <td>22 Mins</td>\n      <td>36 Mins</td>\n      <td>12 Mins</td>\n      <td>22 Mins</td>\n      <td>...</td>\n      <td>18 Mins</td>\n      <td>10 Mins</td>\n      <td>23 Mins</td>\n      <td>24 Mins</td>\n      <td>27 Mins</td>\n      <td>23 Mins</td>\n      <td>22 Mins</td>\n      <td>13 Mins</td>\n      <td>11 Mins</td>\n      <td>-</td>\n    </tr>\n    <tr>\n      <th>4</th>\n      <td>-</td>\n      <td>12 Mins</td>\n      <td>16 Mins</td>\n      <td>29 Mins</td>\n      <td>24 Mins</td>\n      <td>38 Mins</td>\n      <td>26 Mins</td>\n      <td>35 Mins</td>\n      <td>09 Mins</td>\n      <td>18 Mins</td>\n      <td>...</td>\n      <td>18 Mins</td>\n      <td>18 Mins</td>\n      <td>34 Mins</td>\n      <td>35 Mins</td>\n      <td>38 Mins</td>\n      <td>35 Mins</td>\n      <td>34 Mins</td>\n      <td>23 Mins</td>\n      <td>18 Mins</td>\n      <td>No Delay</td>\n    </tr>\n    <tr>\n      <th>5</th>\n      <td>-</td>\n      <td>10 Mins</td>\n      <td>38 Mins</td>\n      <td>42 Mins</td>\n      <td>38 Mins</td>\n      <td>29 Mins</td>\n      <td>26 Mins</td>\n      <td>28 Mins</td>\n      <td>04 Mins</td>\n      <td>03 Mins</td>\n      <td>...</td>\n      <td>-</td>\n      <td>17 Mins</td>\n      <td>35 Mins</td>\n      <td>35 Mins</td>\n      <td>38 Mins</td>\n      <td>35 Mins</td>\n      <td>35 Mins</td>\n      <td>24 Mins</td>\n      <td>18 Mins</td>\n      <td>No Delay</td>\n    </tr>\n    <tr>\n      <th>6</th>\n      <td>-</td>\n      <td>16 Mins</td>\n      <td>37 Mins</td>\n      <td>46 Mins</td>\n      <td>41 Mins</td>\n      <td>42 Mins</td>\n      <td>37 Mins</td>\n      <td>59 Mins</td>\n      <td>32 Mins</td>\n      <td>33 Mins</td>\n      <td>...</td>\n      <td>34 Mins</td>\n      <td>34 Mins</td>\n      <td>40 Mins</td>\n      <td>40 Mins</td>\n      <td>42 Mins</td>\n      <td>40 Mins</td>\n      <td>38 Mins</td>\n      <td>27 Mins</td>\n      <td>21 Mins</td>\n      <td>No Delay</td>\n    </tr>\n    <tr>\n      <th>7</th>\n      <td>-</td>\n      <td>13 Mins</td>\n      <td>14 Mins</td>\n      <td>14 Mins</td>\n      <td>17 Mins</td>\n      <td>32 Mins</td>\n      <td>29 Mins</td>\n      <td>45 Mins</td>\n      <td>20 Mins</td>\n      <td>18 Mins</td>\n      <td>...</td>\n      <td>18 Mins</td>\n      <td>20 Mins</td>\n      <td>28 Mins</td>\n      <td>29 Mins</td>\n      <td>31 Mins</td>\n      <td>30 Mins</td>\n      <td>29 Mins</td>\n      <td>21 Mins</td>\n      <td>16 Mins</td>\n      <td>No Delay</td>\n    </tr>\n    <tr>\n      <th>8</th>\n      <td>-</td>\n      <td>10 Mins</td>\n      <td>16 Mins</td>\n      <td>10 Mins</td>\n      <td>14 Mins</td>\n      <td>28 Mins</td>\n      <td>20 Mins</td>\n      <td>28 Mins</td>\n      <td>10 Mins</td>\n      <td>06 Mins</td>\n      <td>...</td>\n      <td>01 Min</td>\n      <td>04 Mins</td>\n      <td>13 Mins</td>\n      <td>14 Mins</td>\n      <td>17 Mins</td>\n      <td>15 Mins</td>\n      <td>15 Mins</td>\n      <td>08 Mins</td>\n      <td>11 Mins</td>\n      <td>No Delay</td>\n    </tr>\n    <tr>\n      <th>9</th>\n      <td>-</td>\n      <td>12 Mins</td>\n      <td>17 Mins</td>\n      <td>22 Mins</td>\n      <td>21 Mins</td>\n      <td>27 Mins</td>\n      <td>25 Mins</td>\n      <td>33 Mins</td>\n      <td>19 Mins</td>\n      <td>18 Mins</td>\n      <td>...</td>\n      <td>17 Mins</td>\n      <td>20 Mins</td>\n      <td>29 Mins</td>\n      <td>30 Mins</td>\n      <td>33 Mins</td>\n      <td>30 Mins</td>\n      <td>28 Mins</td>\n      <td>24 Mins</td>\n      <td>21 Mins</td>\n      <td>No Delay</td>\n    </tr>\n  </tbody>\n</table>\n<p>10 rows × 21 columns</p>\n</div>",
            "text/plain": "  Mgr Chennai Ctl\\n0 KM's Arakkonam\\n69 KM's Katpadi\\n130 KM's  \\\n0                       -            08 Mins           17 Mins   \n1                       -            10 Mins           11 Mins   \n2                       -            11 Mins           11 Mins   \n3                       -            11 Mins           10 Mins   \n4                       -            12 Mins           16 Mins   \n5                       -            10 Mins           38 Mins   \n6                       -            16 Mins           37 Mins   \n7                       -            13 Mins           14 Mins   \n8                       -            10 Mins           16 Mins   \n9                       -            12 Mins           17 Mins   \n\n  Vaniyambadi\\n198 KM's Jolarpettai\\n214 KM's Salem\\n334 KM's Erode\\n396 KM's  \\\n0               26 Mins               22 Mins         27 Mins         20 Mins   \n1               18 Mins               14 Mins         15 Mins         13 Mins   \n2               18 Mins               14 Mins         14 Mins         17 Mins   \n3               23 Mins               18 Mins         25 Mins         22 Mins   \n4               29 Mins               24 Mins         38 Mins         26 Mins   \n5               42 Mins               38 Mins         29 Mins         26 Mins   \n6               46 Mins               41 Mins         42 Mins         37 Mins   \n7               14 Mins               17 Mins         32 Mins         29 Mins   \n8               10 Mins               14 Mins         28 Mins         20 Mins   \n9               22 Mins               21 Mins         27 Mins         25 Mins   \n\n  Tiruppur\\n446 KM's Coimbatore\\n497 KM's Palakkad\\n551 KM's  \\\n0            34 Mins              24 Mins            20 Mins   \n1            20 Mins              23 Mins            19 Mins   \n2            26 Mins              16 Mins            17 Mins   \n3            36 Mins              12 Mins            22 Mins   \n4            35 Mins              09 Mins            18 Mins   \n5            28 Mins              04 Mins            03 Mins   \n6            59 Mins              32 Mins            33 Mins   \n7            45 Mins              20 Mins            18 Mins   \n8            28 Mins              10 Mins            06 Mins   \n9            33 Mins              19 Mins            18 Mins   \n\n             ...            Ernakulam Town\\n700 KM's Kottayam\\n762 KM's  \\\n0            ...                             10 Mins            13 Mins   \n1            ...                             07 Mins            08 Mins   \n2            ...                                   -             01 Min   \n3            ...                             18 Mins            10 Mins   \n4            ...                             18 Mins            18 Mins   \n5            ...                                   -            17 Mins   \n6            ...                             34 Mins            34 Mins   \n7            ...                             18 Mins            20 Mins   \n8            ...                              01 Min            04 Mins   \n9            ...                             17 Mins            20 Mins   \n\n  Changanaseri\\n780 KM's Tiruvalla\\n788 KM's Chengannur\\n797 KM's  \\\n0                25 Mins             27 Mins              30 Mins   \n1                17 Mins             17 Mins              20 Mins   \n2                14 Mins             14 Mins              17 Mins   \n3                23 Mins             24 Mins              27 Mins   \n4                34 Mins             35 Mins              38 Mins   \n5                35 Mins             35 Mins              38 Mins   \n6                40 Mins             40 Mins              42 Mins   \n7                28 Mins             29 Mins              31 Mins   \n8                13 Mins             14 Mins              17 Mins   \n9                29 Mins             30 Mins              33 Mins   \n\n  Mavelikara\\n809 KM's Kayankulam\\n817 KM's Kollam\\n858 KM's  \\\n0              28 Mins              27 Mins          17 Mins   \n1              18 Mins              16 Mins          05 Mins   \n2              15 Mins              14 Mins          04 Mins   \n3              23 Mins              22 Mins          13 Mins   \n4              35 Mins              34 Mins          23 Mins   \n5              35 Mins              35 Mins          24 Mins   \n6              40 Mins              38 Mins          27 Mins   \n7              30 Mins              29 Mins          21 Mins   \n8              15 Mins              15 Mins          08 Mins   \n9              30 Mins              28 Mins          24 Mins   \n\n  Varkalasivagiri\\n881 KM's Trivandrum Cntl\\n922 KM's  \n0                   13 Mins                  No Delay  \n1                   03 Mins                  No Delay  \n2                   05 Mins                  No Delay  \n3                   11 Mins                         -  \n4                   18 Mins                  No Delay  \n5                   18 Mins                  No Delay  \n6                   21 Mins                  No Delay  \n7                   16 Mins                  No Delay  \n8                   11 Mins                  No Delay  \n9                   21 Mins                  No Delay  \n\n[10 rows x 21 columns]"
          },
          "metadata": {}
        }
      ]
    },
    {
      "metadata": {
        "trusted": false
      },
      "cell_type": "code",
      "source": "#dfsd = pd.read_excel('official_schedules.xlsx', sheet_name=\"12625-kerala\")",
      "execution_count": 164,
      "outputs": []
    },
    {
      "metadata": {
        "trusted": false
      },
      "cell_type": "code",
      "source": "\nlistfullname=list(dfsd['Station Name'])\nlistfullname",
      "execution_count": 165,
      "outputs": [
        {
          "data": {
            "text/plain": "['TRIVANDRUM CNTL',\n 'VARKALASIVAGIRI',\n 'KOLLAM',\n 'KAYANKULAM',\n 'MAVELIKARA',\n 'CHENGANNUR',\n 'TIRUVALLA',\n 'CHANGANASERI',\n 'KOTTAYAM',\n 'VAIKOM',\n 'ERNAKULAM ',\n 'ALUVA',\n 'THRISUR',\n 'OTTAPPALAM',\n 'PALAKKAD',\n 'COIMBATORE',\n 'TIRUPPUR',\n 'ERODE',\n 'SALEM',\n 'JOLARPETTAI',\n 'KATPADI',\n 'CHITTOOR',\n 'TIRUPATI',\n 'RENIGUNTA',\n 'GUDUR',\n 'NELLORE',\n 'VIJAYAWADA',\n 'WARANGAL',\n 'RAMAGUNDAM',\n 'BALHARSHAH',\n 'CHANDRAPUR',\n 'SEVAGRAM',\n 'NAGPUR',\n 'ITARSI',\n 'BHOPAL',\n 'BINA',\n 'JHANSI',\n 'GWALIOR',\n 'AGRA CANTT',\n 'MATHURA',\n 'FARIDABAD',\n 'H NIZAMUDDIN',\n 'NEW DELHI']"
          },
          "execution_count": 165,
          "metadata": {},
          "output_type": "execute_result"
        }
      ]
    },
    {
      "metadata": {
        "trusted": false
      },
      "cell_type": "code",
      "source": "listcode=list(dfsd['Station Code'])\nlistfullname=list(dfsd['Station Name'])\nlistfrom=list(towrite['from'])\nlistto=list(towrite['to'])\nfor i in range(0,len(listfrom)):\n    for j in range(0,len(listfullname)):\n        if(listfrom[i].lower()==listfullname[j].lower()):\n            listfrom[i]=listcode[j]\n            break\nlistfrom",
      "execution_count": 166,
      "outputs": [
        {
          "data": {
            "text/plain": "['TVC',\n 'VAK',\n 'QLN',\n 'KYJ',\n 'MVLK',\n 'CNGR',\n 'TRVL',\n 'CGY',\n 'KTYM',\n 'VARD',\n 'Ernakulam Town',\n 'AWY',\n 'TCR',\n 'OTP',\n 'PGT',\n 'CBE',\n 'TUP',\n 'ED',\n 'SA',\n 'JTJ',\n 'KPD',\n 'CTO',\n 'TPTY',\n 'RU',\n 'GDR',\n 'NLR',\n 'BZA',\n 'WL',\n 'RDM',\n 'BPQ',\n 'CD',\n 'SEGM',\n 'NGP',\n 'ET',\n 'BPL',\n 'BINA',\n 'JHS',\n 'GWL',\n 'AGC',\n 'MTJ',\n 'FDB',\n 'NZM',\n 'TVC',\n 'VAK',\n 'QLN',\n 'KYJ',\n 'MVLK',\n 'CNGR',\n 'TRVL',\n 'CGY',\n 'KTYM',\n 'VARD',\n 'Ernakulam Town',\n 'AWY',\n 'TCR',\n 'OTP',\n 'PGT',\n 'CBE',\n 'TUP',\n 'ED',\n 'SA',\n 'JTJ',\n 'KPD',\n 'CTO',\n 'TPTY',\n 'RU',\n 'GDR',\n 'NLR',\n 'BZA',\n 'WL',\n 'RDM',\n 'BPQ',\n 'CD',\n 'SEGM',\n 'NGP',\n 'ET',\n 'BPL',\n 'BINA',\n 'JHS',\n 'GWL',\n 'AGC',\n 'MTJ',\n 'FDB',\n 'NZM',\n 'TVC',\n 'VAK',\n 'QLN',\n 'KYJ',\n 'MVLK',\n 'CNGR',\n 'TRVL',\n 'CGY',\n 'KTYM',\n 'VARD',\n 'Ernakulam Town',\n 'AWY',\n 'TCR',\n 'OTP',\n 'PGT',\n 'CBE',\n 'TUP',\n 'ED',\n 'SA',\n 'JTJ',\n 'KPD',\n 'CTO',\n 'TPTY',\n 'RU',\n 'GDR',\n 'NLR',\n 'BZA',\n 'WL',\n 'RDM',\n 'BPQ',\n 'CD',\n 'SEGM',\n 'NGP',\n 'ET',\n 'BPL',\n 'BINA',\n 'JHS',\n 'GWL',\n 'AGC',\n 'MTJ',\n 'FDB',\n 'NZM',\n 'TVC',\n 'VAK',\n 'QLN',\n 'KYJ',\n 'MVLK',\n 'CNGR',\n 'TRVL',\n 'CGY',\n 'KTYM',\n 'VARD',\n 'Ernakulam Town',\n 'AWY',\n 'TCR',\n 'OTP',\n 'PGT',\n 'CBE',\n 'TUP',\n 'ED',\n 'SA',\n 'JTJ',\n 'KPD',\n 'CTO',\n 'TPTY',\n 'RU',\n 'GDR',\n 'NLR',\n 'BZA',\n 'WL',\n 'RDM',\n 'BPQ',\n 'CD',\n 'SEGM',\n 'NGP',\n 'ET',\n 'BPL',\n 'BINA',\n 'JHS',\n 'GWL',\n 'AGC',\n 'MTJ',\n 'FDB',\n 'NZM',\n 'TVC',\n 'VAK',\n 'QLN',\n 'KYJ',\n 'MVLK',\n 'CNGR',\n 'TRVL',\n 'CGY',\n 'KTYM',\n 'VARD',\n 'Ernakulam Town',\n 'AWY',\n 'TCR',\n 'OTP',\n 'PGT',\n 'CBE',\n 'TUP',\n 'ED',\n 'SA',\n 'JTJ',\n 'KPD',\n 'CTO',\n 'TPTY',\n 'RU',\n 'GDR',\n 'NLR',\n 'BZA',\n 'WL',\n 'RDM',\n 'BPQ',\n 'CD',\n 'SEGM',\n 'NGP',\n 'ET',\n 'BPL',\n 'BINA',\n 'JHS',\n 'GWL',\n 'AGC',\n 'MTJ',\n 'FDB',\n 'NZM',\n 'TVC',\n 'VAK',\n 'QLN',\n 'KYJ',\n 'MVLK',\n 'CNGR',\n 'TRVL',\n 'CGY',\n 'KTYM',\n 'VARD',\n 'Ernakulam Town',\n 'AWY',\n 'TCR',\n 'OTP',\n 'PGT',\n 'CBE',\n 'TUP',\n 'ED',\n 'SA',\n 'JTJ',\n 'KPD',\n 'CTO',\n 'TPTY',\n 'RU',\n 'GDR',\n 'NLR',\n 'BZA',\n 'WL',\n 'RDM',\n 'BPQ',\n 'CD',\n 'SEGM',\n 'NGP',\n 'ET',\n 'BPL',\n 'BINA',\n 'JHS',\n 'GWL',\n 'AGC',\n 'MTJ',\n 'FDB',\n 'NZM',\n 'TVC',\n 'VAK',\n 'QLN',\n 'KYJ',\n 'MVLK',\n 'CNGR',\n 'TRVL',\n 'CGY',\n 'KTYM',\n 'VARD',\n 'Ernakulam Town',\n 'AWY',\n 'TCR',\n 'OTP',\n 'PGT',\n 'CBE',\n 'TUP',\n 'ED',\n 'SA',\n 'JTJ',\n 'KPD',\n 'CTO',\n 'TPTY',\n 'RU',\n 'GDR',\n 'NLR',\n 'BZA',\n 'WL',\n 'RDM',\n 'BPQ',\n 'CD',\n 'SEGM',\n 'NGP',\n 'ET',\n 'BPL',\n 'BINA',\n 'JHS',\n 'GWL',\n 'AGC',\n 'MTJ',\n 'FDB',\n 'NZM',\n 'TVC',\n 'VAK',\n 'QLN',\n 'KYJ',\n 'MVLK',\n 'CNGR',\n 'TRVL',\n 'CGY',\n 'KTYM',\n 'VARD',\n 'Ernakulam Town',\n 'AWY',\n 'TCR',\n 'OTP',\n 'PGT',\n 'CBE',\n 'TUP',\n 'ED',\n 'SA',\n 'JTJ',\n 'KPD',\n 'CTO',\n 'TPTY',\n 'RU',\n 'GDR',\n 'NLR',\n 'BZA',\n 'WL',\n 'RDM',\n 'BPQ',\n 'CD',\n 'SEGM',\n 'NGP',\n 'ET',\n 'BPL',\n 'BINA',\n 'JHS',\n 'GWL',\n 'AGC',\n 'MTJ',\n 'FDB',\n 'NZM',\n 'TVC',\n 'VAK',\n 'QLN',\n 'KYJ',\n 'MVLK',\n 'CNGR',\n 'TRVL',\n 'CGY',\n 'KTYM',\n 'VARD',\n 'Ernakulam Town',\n 'AWY',\n 'TCR',\n 'OTP',\n 'PGT',\n 'CBE',\n 'TUP',\n 'ED',\n 'SA',\n 'JTJ',\n 'KPD',\n 'CTO',\n 'TPTY',\n 'RU',\n 'GDR',\n 'NLR',\n 'BZA',\n 'WL',\n 'RDM',\n 'BPQ',\n 'CD',\n 'SEGM',\n 'NGP',\n 'ET',\n 'BPL',\n 'BINA',\n 'JHS',\n 'GWL',\n 'AGC',\n 'MTJ',\n 'FDB',\n 'NZM',\n 'TVC',\n 'VAK',\n 'QLN',\n 'KYJ',\n 'MVLK',\n 'CNGR',\n 'TRVL',\n 'CGY',\n 'KTYM',\n 'VARD',\n 'Ernakulam Town',\n 'AWY',\n 'TCR',\n 'OTP',\n 'PGT',\n 'CBE',\n 'TUP',\n 'ED',\n 'SA',\n 'JTJ',\n 'KPD',\n 'CTO',\n 'TPTY',\n 'RU',\n 'GDR',\n 'NLR',\n 'BZA',\n 'WL',\n 'RDM',\n 'BPQ',\n 'CD',\n 'SEGM',\n 'NGP',\n 'ET',\n 'BPL',\n 'BINA',\n 'JHS',\n 'GWL',\n 'AGC',\n 'MTJ',\n 'FDB',\n 'NZM']"
          },
          "execution_count": 166,
          "metadata": {},
          "output_type": "execute_result"
        }
      ]
    },
    {
      "metadata": {
        "trusted": false
      },
      "cell_type": "code",
      "source": "",
      "execution_count": null,
      "outputs": []
    },
    {
      "metadata": {
        "trusted": false
      },
      "cell_type": "code",
      "source": "\n",
      "execution_count": null,
      "outputs": []
    },
    {
      "metadata": {
        "trusted": false
      },
      "cell_type": "code",
      "source": "\n        \n    ",
      "execution_count": null,
      "outputs": []
    },
    {
      "metadata": {
        "trusted": false
      },
      "cell_type": "code",
      "source": "\n",
      "execution_count": 128,
      "outputs": []
    },
    {
      "metadata": {
        "trusted": false
      },
      "cell_type": "code",
      "source": "",
      "execution_count": null,
      "outputs": []
    },
    {
      "metadata": {
        "trusted": false
      },
      "cell_type": "code",
      "source": "",
      "execution_count": null,
      "outputs": []
    },
    {
      "metadata": {
        "trusted": false
      },
      "cell_type": "code",
      "source": "",
      "execution_count": null,
      "outputs": []
    },
    {
      "metadata": {
        "trusted": false
      },
      "cell_type": "code",
      "source": "",
      "execution_count": null,
      "outputs": []
    }
  ],
  "metadata": {
    "kernelspec": {
      "name": "python36",
      "display_name": "Python 3.6",
      "language": "python"
    }
  },
  "nbformat": 4,
  "nbformat_minor": 2
}