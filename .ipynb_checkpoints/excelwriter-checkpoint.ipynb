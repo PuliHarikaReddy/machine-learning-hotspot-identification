{
  "cells": [
    {
      "metadata": {
        "trusted": true
      },
      "cell_type": "code",
      "source": "import pandas as pd\nfrom pandas import ExcelWriter\nfrom pandas import ExcelFile\nimport numpy as np\n\ndf = pd.DataFrame({'a':[1,3,5,7,4,5,6,4,7,8,9],\n                   'b':[3,5,6,2,4,6,7,8,7,8,9]})\n\ndf1 = pd.DataFrame({'a':[1,3,5,7,4,5,6,4,7,8,9],\n                   'b':[3,5,6,2,4,6,7,8,7,8,9]})\ndf=df.append(df1)\ndf\n\n",
      "execution_count": 17,
      "outputs": [
        {
          "output_type": "execute_result",
          "execution_count": 17,
          "data": {
            "text/html": "<div>\n<style scoped>\n    .dataframe tbody tr th:only-of-type {\n        vertical-align: middle;\n    }\n\n    .dataframe tbody tr th {\n        vertical-align: top;\n    }\n\n    .dataframe thead th {\n        text-align: right;\n    }\n</style>\n<table border=\"1\" class=\"dataframe\">\n  <thead>\n    <tr style=\"text-align: right;\">\n      <th></th>\n      <th>a</th>\n      <th>b</th>\n    </tr>\n  </thead>\n  <tbody>\n    <tr>\n      <th>0</th>\n      <td>1</td>\n      <td>3</td>\n    </tr>\n    <tr>\n      <th>1</th>\n      <td>3</td>\n      <td>5</td>\n    </tr>\n    <tr>\n      <th>2</th>\n      <td>5</td>\n      <td>6</td>\n    </tr>\n    <tr>\n      <th>3</th>\n      <td>7</td>\n      <td>2</td>\n    </tr>\n    <tr>\n      <th>4</th>\n      <td>4</td>\n      <td>4</td>\n    </tr>\n    <tr>\n      <th>5</th>\n      <td>5</td>\n      <td>6</td>\n    </tr>\n    <tr>\n      <th>6</th>\n      <td>6</td>\n      <td>7</td>\n    </tr>\n    <tr>\n      <th>7</th>\n      <td>4</td>\n      <td>8</td>\n    </tr>\n    <tr>\n      <th>8</th>\n      <td>7</td>\n      <td>7</td>\n    </tr>\n    <tr>\n      <th>9</th>\n      <td>8</td>\n      <td>8</td>\n    </tr>\n    <tr>\n      <th>10</th>\n      <td>9</td>\n      <td>9</td>\n    </tr>\n    <tr>\n      <th>0</th>\n      <td>1</td>\n      <td>3</td>\n    </tr>\n    <tr>\n      <th>1</th>\n      <td>3</td>\n      <td>5</td>\n    </tr>\n    <tr>\n      <th>2</th>\n      <td>5</td>\n      <td>6</td>\n    </tr>\n    <tr>\n      <th>3</th>\n      <td>7</td>\n      <td>2</td>\n    </tr>\n    <tr>\n      <th>4</th>\n      <td>4</td>\n      <td>4</td>\n    </tr>\n    <tr>\n      <th>5</th>\n      <td>5</td>\n      <td>6</td>\n    </tr>\n    <tr>\n      <th>6</th>\n      <td>6</td>\n      <td>7</td>\n    </tr>\n    <tr>\n      <th>7</th>\n      <td>4</td>\n      <td>8</td>\n    </tr>\n    <tr>\n      <th>8</th>\n      <td>7</td>\n      <td>7</td>\n    </tr>\n    <tr>\n      <th>9</th>\n      <td>8</td>\n      <td>8</td>\n    </tr>\n    <tr>\n      <th>10</th>\n      <td>9</td>\n      <td>9</td>\n    </tr>\n  </tbody>\n</table>\n</div>",
            "text/plain": "    a  b\n0   1  3\n1   3  5\n2   5  6\n3   7  2\n4   4  4\n5   5  6\n6   6  7\n7   4  8\n8   7  7\n9   8  8\n10  9  9\n0   1  3\n1   3  5\n2   5  6\n3   7  2\n4   4  4\n5   5  6\n6   6  7\n7   4  8\n8   7  7\n9   8  8\n10  9  9"
          },
          "metadata": {}
        }
      ]
    },
    {
      "metadata": {
        "trusted": true
      },
      "cell_type": "code",
      "source": "writer = ExcelWriter('Pandas-Example2.xlsx')\ndf.to_excel\ndf.to_excel(writer,'Sheet1',index=False)\nwriter.save()",
      "execution_count": 12,
      "outputs": []
    },
    {
      "metadata": {
        "trusted": true
      },
      "cell_type": "code",
      "source": "\ndf1=pd.read_excel('Pandas-Example2.xlsx')\ndf1\n",
      "execution_count": 14,
      "outputs": [
        {
          "output_type": "execute_result",
          "execution_count": 14,
          "data": {
            "text/html": "<div>\n<style scoped>\n    .dataframe tbody tr th:only-of-type {\n        vertical-align: middle;\n    }\n\n    .dataframe tbody tr th {\n        vertical-align: top;\n    }\n\n    .dataframe thead th {\n        text-align: right;\n    }\n</style>\n<table border=\"1\" class=\"dataframe\">\n  <thead>\n    <tr style=\"text-align: right;\">\n      <th></th>\n      <th>a</th>\n      <th>b</th>\n    </tr>\n  </thead>\n  <tbody>\n    <tr>\n      <th>0</th>\n      <td>1</td>\n      <td>3</td>\n    </tr>\n    <tr>\n      <th>1</th>\n      <td>3</td>\n      <td>5</td>\n    </tr>\n    <tr>\n      <th>2</th>\n      <td>5</td>\n      <td>6</td>\n    </tr>\n    <tr>\n      <th>3</th>\n      <td>7</td>\n      <td>2</td>\n    </tr>\n    <tr>\n      <th>4</th>\n      <td>4</td>\n      <td>4</td>\n    </tr>\n    <tr>\n      <th>5</th>\n      <td>5</td>\n      <td>6</td>\n    </tr>\n    <tr>\n      <th>6</th>\n      <td>6</td>\n      <td>7</td>\n    </tr>\n    <tr>\n      <th>7</th>\n      <td>4</td>\n      <td>8</td>\n    </tr>\n    <tr>\n      <th>8</th>\n      <td>7</td>\n      <td>7</td>\n    </tr>\n    <tr>\n      <th>9</th>\n      <td>8</td>\n      <td>8</td>\n    </tr>\n    <tr>\n      <th>10</th>\n      <td>9</td>\n      <td>9</td>\n    </tr>\n  </tbody>\n</table>\n</div>",
            "text/plain": "    a  b\n0   1  3\n1   3  5\n2   5  6\n3   7  2\n4   4  4\n5   5  6\n6   6  7\n7   4  8\n8   7  7\n9   8  8\n10  9  9"
          },
          "metadata": {}
        }
      ]
    },
    {
      "metadata": {
        "trusted": true
      },
      "cell_type": "code",
      "source": "",
      "execution_count": null,
      "outputs": []
    }
  ],
  "metadata": {
    "kernelspec": {
      "name": "python36",
      "display_name": "Python 3.6",
      "language": "python"
    },
    "language_info": {
      "mimetype": "text/x-python",
      "nbconvert_exporter": "python",
      "name": "python",
      "pygments_lexer": "ipython3",
      "version": "3.6.6",
      "file_extension": ".py",
      "codemirror_mode": {
        "version": 3,
        "name": "ipython"
      }
    }
  },
  "nbformat": 4,
  "nbformat_minor": 2
}